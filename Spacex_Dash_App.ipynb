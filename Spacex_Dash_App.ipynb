{
 "cells": [
  {
   "cell_type": "code",
   "execution_count": 1,
   "id": "e09b3ee0-fdb9-4dc1-bda2-be33acf13e5b",
   "metadata": {},
   "outputs": [
    {
     "data": {
      "text/html": [
       "        <script type=\"text/javascript\">\n",
       "        window.PlotlyConfig = {MathJaxConfig: 'local'};\n",
       "        if (window.MathJax) {MathJax.Hub.Config({SVG: {font: \"STIX-Web\"}});}\n",
       "        if (typeof require !== 'undefined') {\n",
       "        require.undef(\"plotly\");\n",
       "        requirejs.config({\n",
       "            paths: {\n",
       "                'plotly': ['https://cdn.plot.ly/plotly-2.4.2.min']\n",
       "            }\n",
       "        });\n",
       "        require(['plotly'], function(Plotly) {\n",
       "            window._Plotly = Plotly;\n",
       "        });\n",
       "        }\n",
       "        </script>\n",
       "        "
      ]
     },
     "metadata": {},
     "output_type": "display_data"
    }
   ],
   "source": [
    "# Import required libraries\n",
    "import pandas as pd\n",
    "import dash\n",
    "from dash import dcc\n",
    "from dash import html\n",
    "from dash.dependencies import Input, Output\n",
    "import plotly.express as px\n",
    "from jupyter_dash import JupyterDash\n",
    "import plotly.offline as pyo\n",
    "pyo.init_notebook_mode(connected=True)\n",
    "import plotly.graph_objects as go\n",
    "import shutup\n",
    "shutup.please()"
   ]
  },
  {
   "cell_type": "code",
   "execution_count": 2,
   "id": "8a57b91b-e1b0-49c8-9f41-c7182e79f735",
   "metadata": {},
   "outputs": [],
   "source": [
    "# Read the airline data into pandas dataframe\n",
    "spacex_df = pd.read_csv(\"spacex_launch_dash.csv\")\n",
    "max_payload = spacex_df['Payload Mass (kg)'].max()\n",
    "min_payload = spacex_df['Payload Mass (kg)'].min()\n",
    "spacex_df['Mission Outcome'] = [x[:7] for x in spacex_df['Mission Outcome']]\n",
    "spacex_df.drop('Unnamed: 0', axis=1, inplace=True)"
   ]
  },
  {
   "cell_type": "code",
   "execution_count": 3,
   "id": "bc8df7ca-3d22-4330-b2b0-477ee5ee9db4",
   "metadata": {},
   "outputs": [],
   "source": [
    "# Create a dash application\n",
    "app = JupyterDash(__name__)\n",
    "#suppress_callback_exceptions=True)"
   ]
  },
  {
   "cell_type": "code",
   "execution_count": 4,
   "id": "7be18a85-f883-409b-9fcc-f1d3847f99be",
   "metadata": {},
   "outputs": [],
   "source": [
    "# Create an app layout\n",
    "app.layout = html.Div(children=[html.H1('SpaceX Launch Records Dashboard',\n",
    "                                        style={'textAlign': 'center', 'color': '#503D36',\n",
    "                                               'font-size': 40}),\n",
    "                                # dropdown list to enable Launch Site selection\n",
    "                                # The default select value is for ALL sites\n",
    "                                dcc.Dropdown(id='site-dropdown',\n",
    "                                            options=[{'label': 'All Sites', 'value': 'ALL'},\n",
    "                                                     {'label': 'CCAFS LC-40 ', 'value': 'CCAFS LC-40'},\n",
    "                                                     {'label': 'KSC LC-39A', 'value': 'KSC LC-39A'},\n",
    "                                                     {'label': 'VAFB SLC-4E', 'value': 'VAFB SLC-4E'},\n",
    "                                                     {'label': 'CCAFS SLC-40', 'value': 'CCAFS SLC-40'}],\n",
    "                                            value='ALL',\n",
    "                                            placeholder='Select a Launch Site here',\n",
    "                                            searchable=True),\n",
    "                                html.Br(),\n",
    "                                # pie chart to show the total successful launches count for all sites\n",
    "                                # If a specific launch site was selected, show the Success vs. Failed counts for the site\n",
    "                                html.Div([ ],id='success-pie-chart'),\n",
    "                                html.Br(),\n",
    "                                html.P(\"Payload range (Kg):\"),\n",
    "                                # slider to select payload range\n",
    "                                dcc.RangeSlider(id='payload-slider',\n",
    "                                                min=0, max=10000, step=1000,\n",
    "                                                marks={0: '0',100: '100'},\n",
    "                                                value=[min_payload, max_payload]),\n",
    "                                # scatter chart to show the correlation between payload and launch success\n",
    "                                html.Br(),\n",
    "                                html.Div([ ],id='success-payload-scatter-chart'),\n",
    "                                ])"
   ]
  },
  {
   "cell_type": "code",
   "execution_count": null,
   "id": "1c53ce6d-0648-4f96-b1b4-c3b774b022be",
   "metadata": {},
   "outputs": [],
   "source": []
  },
  {
   "cell_type": "code",
   "execution_count": 5,
   "id": "38d389d0-a085-4ea5-a82f-259a5f820766",
   "metadata": {},
   "outputs": [],
   "source": [
    "# callback function for `site-dropdown` as input, `success-pie-chart` as output\n",
    "@app.callback([Output(component_id='success-pie-chart', component_property='children')],\n",
    "              [Input(component_id='site-dropdown', component_property='value')])\n",
    "def update_pie(site):\n",
    "    if site != 'ALL':\n",
    "        df =  spacex_df[spacex_df['Launch Site']==site]\n",
    "        pie_fig = px.pie(df, values='class', names='Launch Site', title=f'Total Success Launches By {site}')\n",
    "        return [dcc.Graph(figure=pie_fig)]\n",
    "    else:\n",
    "        pie_fig = px.pie(spacex_df, values='class', names='Launch Site', title=f'Total Success Launches By {site}')\n",
    "        return [dcc.Graph(figure=pie_fig)]"
   ]
  },
  {
   "cell_type": "code",
   "execution_count": 6,
   "id": "5a18b595-f019-4f42-b384-0861701c8cea",
   "metadata": {},
   "outputs": [],
   "source": [
    "# callback function for `site-dropdown` and `payload-slider` as inputs, `success-payload-scatter-chart` as output\n",
    "@app.callback([Output(component_id='success-payload-scatter-chart', component_property='children')],\n",
    "              [Input(component_id='site-dropdown', component_property='value'), Input(component_id=\"payload-slider\", component_property=\"value\")])\n",
    "def update_scatter(site,slider):\n",
    "    if site != 'ALL':\n",
    "        df =  spacex_df[spacex_df['Launch Site']==site]\n",
    "        df = df[(df['Payload Mass (kg)'] >= slider[0]) & (df['Payload Mass (kg)'] <= slider[1])]\n",
    "        scatter_fig= px.scatter(df, x='Payload Mass (kg)', y='class', color='Booster Version Category', title=f'Payload VS.Success Launches By {site}')\n",
    "        return [dcc.Graph(figure=scatter_fig)]\n",
    "    else:\n",
    "        df = spacex_df[(spacex_df['Payload Mass (kg)'] >= slider[0]) & (spacex_df['Payload Mass (kg)'] <= slider[1])]\n",
    "        scatter_fig= px.scatter(df, x='Payload Mass (kg)', y='class', color='Booster Version Category', title=f'Payload VS.Success Launches By {site}')\n",
    "        return [dcc.Graph(figure=scatter_fig)]"
   ]
  },
  {
   "cell_type": "code",
   "execution_count": 7,
   "id": "ae7db322-0cf7-4683-92cc-e72d9fb95741",
   "metadata": {},
   "outputs": [
    {
     "data": {
      "text/html": [
       "\n",
       "        <iframe\n",
       "            width=\"100%\"\n",
       "            height=\"650\"\n",
       "            src=\"http://127.0.0.1:8501/\"\n",
       "            frameborder=\"0\"\n",
       "            allowfullscreen\n",
       "        ></iframe>\n",
       "        "
      ],
      "text/plain": [
       "<IPython.lib.display.IFrame at 0x7f83080de4f0>"
      ]
     },
     "metadata": {},
     "output_type": "display_data"
    }
   ],
   "source": [
    "# Run the app\n",
    "if __name__ == '__main__':\n",
    "    app.run_server(mode=\"inline\",port=8501);"
   ]
  },
  {
   "cell_type": "code",
   "execution_count": null,
   "id": "10a272bb-b3e6-4fff-b966-9c0bcf9f1895",
   "metadata": {},
   "outputs": [],
   "source": []
  }
 ],
 "metadata": {
  "kernelspec": {
   "display_name": "Python 3",
   "language": "python",
   "name": "python3"
  },
  "language_info": {
   "codemirror_mode": {
    "name": "ipython",
    "version": 3
   },
   "file_extension": ".py",
   "mimetype": "text/x-python",
   "name": "python",
   "nbconvert_exporter": "python",
   "pygments_lexer": "ipython3",
   "version": "3.8.10"
  }
 },
 "nbformat": 4,
 "nbformat_minor": 5
}
